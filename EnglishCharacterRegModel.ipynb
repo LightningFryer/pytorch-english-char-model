{
  "nbformat": 4,
  "nbformat_minor": 0,
  "metadata": {
    "colab": {
      "provenance": [],
      "authorship_tag": "ABX9TyPEJ2dCQRX1Lk6LaShjzctI",
      "include_colab_link": true
    },
    "kernelspec": {
      "name": "python3",
      "display_name": "Python 3"
    },
    "language_info": {
      "name": "python"
    }
  },
  "cells": [
    {
      "cell_type": "markdown",
      "metadata": {
        "id": "view-in-github",
        "colab_type": "text"
      },
      "source": [
        "<a href=\"https://colab.research.google.com/github/LightningFryer/pytorch-english-char-model/blob/main/EnglishCharacterRegModel.ipynb\" target=\"_parent\"><img src=\"https://colab.research.google.com/assets/colab-badge.svg\" alt=\"Open In Colab\"/></a>"
      ]
    },
    {
      "cell_type": "code",
      "execution_count": null,
      "metadata": {
        "colab": {
          "base_uri": "https://localhost:8080/"
        },
        "id": "oHeKYSKEtqYM",
        "outputId": "03d3608d-f629-4f80-a56c-db4045578cff"
      },
      "outputs": [
        {
          "output_type": "stream",
          "name": "stdout",
          "text": [
            "Path to dataset files: /kaggle/input/english-alphabets\n",
            "Dataset laoding complete\n"
          ]
        }
      ],
      "source": [
        "import kagglehub\n",
        "path = kagglehub.dataset_download(\"mohneesh7/english-alphabets\")\n",
        "\n",
        "print(\"Path to dataset files:\", path)\n",
        "print(\"Dataset laoding complete\")"
      ]
    },
    {
      "cell_type": "code",
      "source": [
        "import torch\n",
        "import torch.nn as nn\n",
        "import torch.optim as optim\n",
        "from torch.utils.data import Dataset, DataLoader\n",
        "import torchvision\n",
        "import torchvision.transforms as transforms\n",
        "from torchvision.datasets import ImageFolder\n",
        "import timm\n",
        "\n",
        "import matplotlib.pyplot as plt # For data viz\n",
        "import pandas as pd\n",
        "import numpy as np\n",
        "import sys\n",
        "from tqdm.notebook import tqdm\n",
        "\n",
        "print('System Version:', sys.version)\n",
        "print('PyTorch version', torch.__version__)\n",
        "print('Torchvision version', torchvision.__version__)\n",
        "print('Numpy version', np.__version__)\n",
        "print('Pandas version', pd.__version__)"
      ],
      "metadata": {
        "colab": {
          "base_uri": "https://localhost:8080/"
        },
        "id": "CKsrf98UuzBi",
        "outputId": "a79f59a7-66c1-4367-a3e2-a2fcfb172f2b"
      },
      "execution_count": null,
      "outputs": [
        {
          "output_type": "stream",
          "name": "stdout",
          "text": [
            "System Version: 3.11.13 (main, Jun  4 2025, 08:57:29) [GCC 11.4.0]\n",
            "PyTorch version 2.6.0+cu124\n",
            "Torchvision version 0.21.0+cu124\n",
            "Numpy version 2.0.2\n",
            "Pandas version 2.2.2\n"
          ]
        }
      ]
    },
    {
      "cell_type": "code",
      "source": [
        "# Creating the Dataset class\n",
        "\n",
        "class EnglishCharacterDataset(Dataset):\n",
        "  def __init__(self, data_dir, transform = None):\n",
        "    self.data = ImageFolder(data_dir, transform=transform)\n",
        "\n",
        "  def __len__(self):\n",
        "    return len(self.data)\n",
        "\n",
        "  def __getitem__(self, index):\n",
        "    return self.data[index]\n",
        "\n",
        "  @property\n",
        "  def classes(self):\n",
        "    return self.data.classes"
      ],
      "metadata": {
        "id": "Qe4jKXEAu2JL"
      },
      "execution_count": null,
      "outputs": []
    },
    {
      "cell_type": "code",
      "source": [
        "from random import randint\n",
        "\n",
        "dataset = EnglishCharacterDataset(data_dir=\"/kaggle/input/english-alphabets/english_alphabets\")\n",
        "\n",
        "# Test to see if dataset loads\n",
        "print(\"Length of dataset: \", len(dataset))\n",
        "image, label = dataset[randint(0, len(dataset) - 1)]\n",
        "image"
      ],
      "metadata": {
        "colab": {
          "base_uri": "https://localhost:8080/",
          "height": 68
        },
        "id": "FWvRjkpJzc87",
        "outputId": "ea4a26cf-80dc-4e1f-9de9-8881093ad986"
      },
      "execution_count": null,
      "outputs": [
        {
          "output_type": "stream",
          "name": "stdout",
          "text": [
            "Length of dataset:  6831\n"
          ]
        },
        {
          "output_type": "execute_result",
          "data": {
            "text/plain": [
              "<PIL.Image.Image image mode=RGB size=34x34>"
            ],
            "image/png": "[encoded data removed]",
            "image/jpeg": "[encoded data removed]"
          },
          "metadata": {},
          "execution_count": 11
        }
      ]
    },
    {
      "cell_type": "code",
      "source": [
        "# Sample of using Transform to resize all images to be of same dimensions\n",
        "transform = transforms.Compose([\n",
        "    transforms.Resize((32, 32)),\n",
        "    transforms.ToTensor()\n",
        "])\n",
        "\n",
        "data_dir = '/kaggle/input/english-alphabets/english_alphabets'\n",
        "# Making a dataset with the custom transform\n",
        "dataset = EnglishCharacterDataset(data_dir = data_dir, transform = transform)\n",
        "\n",
        "# Pulling a sample image to test\n",
        "image, label = dataset[1000]\n",
        "image.shape # Gives the dimensions of the image (now converted to a tensor with uniform dimensions)"
      ],
      "metadata": {
        "colab": {
          "base_uri": "https://localhost:8080/"
        },
        "id": "eAuP0K1m-By0",
        "outputId": "50e32f18-de4d-4d60-d918-43758f5266a5"
      },
      "execution_count": null,
      "outputs": [
        {
          "output_type": "execute_result",
          "data": {
            "text/plain": [
              "torch.Size([3, 32, 32])"
            ]
          },
          "metadata": {},
          "execution_count": 36
        }
      ]
    },
    {
      "cell_type": "code",
      "source": [
        "for image, label in dataset:\n",
        "    break"
      ],
      "metadata": {
        "id": "AT9euoFrAd7m"
      },
      "execution_count": null,
      "outputs": []
    },
    {
      "cell_type": "code",
      "source": [
        "# Making a dataloader in order to create batches to train\n",
        "dataloader = DataLoader(dataset, batch_size = 32, shuffle=True)\n",
        "\n",
        "# Testing by iterating and breaking, we'll be using images as the testing in the model down below\n",
        "for images, labels in dataloader:\n",
        "  break"
      ],
      "metadata": {
        "id": "bhF5MtnHAsIU"
      },
      "execution_count": null,
      "outputs": []
    },
    {
      "cell_type": "code",
      "source": [
        "# Creating the classifier (untrained base model) to train from timm, the model class is called a 'Classifier' dunno why\n",
        "class EnglishCharacterClassifier(nn.Module):\n",
        "  def __init__(self, numClasses=26): # numClasses here is 26 because of 26 letters in the english alphabet\n",
        "    super(EnglishCharacterClassifier, self).__init__()\n",
        "    self.base_model = timm.create_model('resnet18', pretrained=True)\n",
        "    self.base_model.conv1 = nn.Conv2d(3, 64, kernel_size=3, stride=1, padding=1, bias=False)\n",
        "    self.base_model.maxpool = nn.Identity()\n",
        "    self.features = nn.Sequential(*list(self.base_model.children())[:-1])\n",
        "\n",
        "    self.classifier = nn.Sequential(\n",
        "        nn.Flatten(),\n",
        "        nn.Linear(512, numClasses)\n",
        "    )\n",
        "\n",
        "  def forward(self, x):\n",
        "    x = self.features(x)\n",
        "    output = self.classifier(x)\n",
        "\n",
        "    return output\n"
      ],
      "metadata": {
        "id": "2E8b-CfltYtd"
      },
      "execution_count": null,
      "outputs": []
    },
    {
      "cell_type": "code",
      "source": [
        "# Creating a new model from the classifier above\n",
        "model = EnglishCharacterClassifier(numClasses=26)\n",
        "# print(model)\n",
        "\n",
        "# Testing the model by passing one 'images' batch from the dataloader test from above\n",
        "model(images) # Should output a tensor if works\n",
        "output = model(images)\n",
        "print(output.shape)"
      ],
      "metadata": {
        "colab": {
          "base_uri": "https://localhost:8080/"
        },
        "id": "QfTWl8YtvORj",
        "outputId": "5a958609-1c8c-47b8-a08e-cde269295e0e"
      },
      "execution_count": null,
      "outputs": [
        {
          "output_type": "stream",
          "name": "stdout",
          "text": [
            "torch.Size([32, 26])\n"
          ]
        }
      ]
    },
    {
      "cell_type": "code",
      "source": [
        "for images, labels in dataloader:\n",
        "  break\n",
        "\n",
        "# TRAINING THE MODEL STARTS HERE\n",
        "# First we need to make 2 things: a loss function (called a criterion) and an optimizer\n",
        "model = EnglishCharacterClassifier(numClasses=26)\n",
        "model(images)\n",
        "output = model(images)\n",
        "print(output.shape)\n",
        "\n",
        "criterion = nn.CrossEntropyLoss();\n",
        "optimizer = optim.Adam(model.parameters(), lr = 0.001)\n",
        "\n",
        "criterion(output, labels)"
      ],
      "metadata": {
        "id": "nEkKMpOowep7",
        "colab": {
          "base_uri": "https://localhost:8080/"
        },
        "outputId": "7def0709-2f44-4573-830d-4aa8a23c0eaf"
      },
      "execution_count": null,
      "outputs": [
        {
          "output_type": "stream",
          "name": "stdout",
          "text": [
            "torch.Size([32, 26])\n"
          ]
        },
        {
          "output_type": "execute_result",
          "data": {
            "text/plain": [
              "tensor(3.2355, grad_fn=<NllLossBackward0>)"
            ]
          },
          "metadata": {},
          "execution_count": 41
        }
      ]
    },
    {
      "cell_type": "code",
      "source": [
        "transform = transforms.Compose([\n",
        "    transforms.Resize((32, 32)),\n",
        "    transforms.ToTensor(),\n",
        "    transforms.Normalize(mean=[0.485, 0.456, 0.406],\n",
        "                         std=[0.229, 0.224, 0.225])\n",
        "])\n",
        "\n",
        "trainFolder = \"/kaggle/input/english-alphabets/english_alphabets\"\n",
        "validFolder = \"/kaggle/input/english-alphabets/english_alphabets\"\n",
        "\n",
        "trainDataset = EnglishCharacterDataset(data_dir = trainFolder, transform=transform)\n",
        "validDataset = EnglishCharacterDataset(data_dir = validFolder, transform=transform)\n",
        "\n",
        "trainDataLoader = DataLoader(trainDataset, batch_size=32, shuffle=True)\n",
        "validDataLoader = DataLoader(validDataset, batch_size=32, shuffle=False)\n",
        "\n",
        "# Simple training loop\n",
        "num_epochs = 5\n",
        "train_losses, val_losses = [], []\n",
        "\n",
        "device = torch.device(\"cuda:0\" if torch.cuda.is_available() else \"cpu\")\n",
        "\n",
        "model = EnglishCharacterClassifier(numClasses=26)\n",
        "model.to(device)\n",
        "\n",
        "criterion = nn.CrossEntropyLoss()\n",
        "optimizer = optim.Adam(model.parameters(), lr=0.001)\n",
        "\n",
        "for epoch in range(num_epochs):\n",
        "  model.train() #!!!!!!!!!!!!!!!!!!!\n",
        "  runningLoss = 0.0\n",
        "  for images, labels in tqdm(trainDataLoader, desc='Training loop'):\n",
        "    # Move inputs and labels to the device\n",
        "    images, labels = images.to(device), labels.to(device)\n",
        "\n",
        "    optimizer.zero_grad()\n",
        "    outputs = model(images)\n",
        "    loss = criterion(outputs, labels)\n",
        "    loss.backward()\n",
        "    optimizer.step()\n",
        "    runningLoss += loss.item() * labels.size(0)\n",
        "  train_loss = runningLoss / len(trainDataLoader.dataset)\n",
        "  train_losses.append(train_loss)\n",
        "\n",
        "  # Validation phase\n",
        "  model.eval()\n",
        "  running_loss = 0.0\n",
        "\n",
        "  with torch.no_grad():\n",
        "    for images, labels in tqdm(validDataLoader, desc='Validation loop'):\n",
        "      # Move inputs and labels to the device\n",
        "      images, labels = images.to(device), labels.to(device)\n",
        "\n",
        "      outputs = model(images)\n",
        "      loss = criterion(outputs, labels)\n",
        "      running_loss += loss.item() * labels.size(0)\n",
        "\n",
        "    val_loss = running_loss / len(validDataLoader.dataset)\n",
        "    val_losses.append(val_loss)\n",
        "    print(f\"Epoch {epoch+1}/{num_epochs} - Train loss: {train_loss}, Validation loss: {val_loss}\")"
      ],
      "metadata": {
        "id": "PRyMYG1759lL"
      },
      "execution_count": null,
      "outputs": []
    },
    {
      "cell_type": "code",
      "source": [
        "plt.plot(train_losses, label='Training loss')\n",
        "plt.plot(val_losses, label='Validation loss')\n",
        "plt.legend()\n",
        "plt.title(\"Loss over epochs\")\n",
        "plt.show()"
      ],
      "metadata": {
        "colab": {
          "base_uri": "https://localhost:8080/",
          "height": 452
        },
        "id": "3ffEqe6p7isF",
        "outputId": "d057ad78-3c2c-4bc2-a95a-7cc983b2e207"
      },
      "execution_count": null,
      "outputs": [
        {
          "output_type": "display_data",
          "data": {
            "text/plain": [
              "<Figure size 640x480 with 1 Axes>"
            ],
            "image/png": "[encoded data removed]"
          },
          "metadata": {}
        }
      ]
    },
    {
      "cell_type": "code",
      "source": [
        "# Testing the trained model\n",
        "\n",
        "import torch\n",
        "import torchvision.transforms as transforms\n",
        "from PIL import Image\n",
        "import matplotlib.pyplot as plt\n",
        "import numpy as np\n",
        "\n",
        "def preprocess_image(image_path, transform):\n",
        "    image = Image.open(image_path).convert(\"RGB\")\n",
        "    return image, transform(image).unsqueeze(0)\n",
        "\n",
        "# Predict using the model\n",
        "def predict(model, image_tensor, device):\n",
        "    model.eval()\n",
        "    with torch.no_grad():\n",
        "        image_tensor = image_tensor.to(device)\n",
        "        outputs = model(image_tensor)\n",
        "        probabilities = torch.nn.functional.softmax(outputs, dim=1)\n",
        "    return probabilities.cpu().numpy().flatten()\n",
        "\n",
        "def visualize_predictions(original_image, probabilities, class_names):\n",
        "    fig, axarr = plt.subplots(1, 2, figsize=(14, 7))\n",
        "\n",
        "    # Display image\n",
        "    axarr[0].imshow(original_image)\n",
        "    axarr[0].axis(\"off\")\n",
        "\n",
        "    # Display predictions\n",
        "    axarr[1].barh(class_names, probabilities)\n",
        "    axarr[1].set_xlabel(\"Probability\")\n",
        "    axarr[1].set_title(\"Class Predictions\")\n",
        "    axarr[1].set_xlim(0, 1)\n",
        "\n",
        "    plt.tight_layout()\n",
        "    plt.show()\n",
        "\n",
        "test_image = \"/kaggle/input/english-alphabets/X/1065.jpg\"\n",
        "transform = transforms.Compose([\n",
        "    transforms.Resize((128, 128)),\n",
        "    transforms.ToTensor()\n",
        "])\n",
        "\n",
        "original_image, image_tensor = preprocess_image(test_image, transform)\n",
        "probabilities = predict(model, image_tensor, device)\n",
        "\n",
        "class_names = dataset.classes\n",
        "visualize_predictions(original_image, probabilities, class_names)"
      ],
      "metadata": {
        "id": "YfXGDrizEKrd"
      },
      "execution_count": null,
      "outputs": []
    }
  ]
}