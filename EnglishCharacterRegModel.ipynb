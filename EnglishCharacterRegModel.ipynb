{
  "nbformat": 4,
  "nbformat_minor": 0,
  "metadata": {
    "colab": {
      "provenance": [],
      "gpuType": "T4",
      "authorship_tag": "ABX9TyNA/XePB3nvMt6DmyztxyV0",
      "include_colab_link": true
    },
    "kernelspec": {
      "name": "python3",
      "display_name": "Python 3"
    },
    "language_info": {
      "name": "python"
    },
    "accelerator": "GPU"
  },
  "cells": [
    {
      "cell_type": "markdown",
      "metadata": {
        "id": "view-in-github",
        "colab_type": "text"
      },
      "source": [
        "<a href=\"https://colab.research.google.com/github/LightningFryer/pytorch-english-char-model/blob/main/EnglishCharacterRegModel.ipynb\" target=\"_parent\"><img src=\"https://colab.research.google.com/assets/colab-badge.svg\" alt=\"Open In Colab\"/></a>"
      ]
    },
    {
      "cell_type": "code",
      "execution_count": 43,
      "metadata": {
        "colab": {
          "base_uri": "https://localhost:8080/"
        },
        "id": "oHeKYSKEtqYM",
        "outputId": "8ec939a7-65d8-49f8-9a85-900882899db8"
      },
      "outputs": [
        {
          "output_type": "stream",
          "name": "stdout",
          "text": [
            "Path to dataset files: /kaggle/input/english-alphabets\n",
            "Dataset laoding complete\n"
          ]
        }
      ],
      "source": [
        "import kagglehub\n",
        "path = kagglehub.dataset_download(\"mohneesh7/english-alphabets\")\n",
        "\n",
        "print(\"Path to dataset files:\", path)\n",
        "print(\"Dataset laoding complete\")"
      ]
    },
    {
      "cell_type": "code",
      "source": [
        "import torch\n",
        "import torch.nn as nn\n",
        "import torch.optim as optim\n",
        "from torch.utils.data import Dataset, DataLoader\n",
        "import torchvision\n",
        "import torchvision.transforms as transforms\n",
        "from torchvision.datasets import ImageFolder\n",
        "import timm\n",
        "\n",
        "import matplotlib.pyplot as plt # For data viz\n",
        "import pandas as pd\n",
        "import numpy as np\n",
        "import sys\n",
        "from tqdm.notebook import tqdm\n",
        "\n",
        "print('System Version:', sys.version)\n",
        "print('PyTorch version', torch.__version__)\n",
        "print('Torchvision version', torchvision.__version__)\n",
        "print('Numpy version', np.__version__)\n",
        "print('Pandas version', pd.__version__)"
      ],
      "metadata": {
        "colab": {
          "base_uri": "https://localhost:8080/"
        },
        "id": "CKsrf98UuzBi",
        "outputId": "5a246b42-a6fc-4596-a2a1-d82c23569444"
      },
      "execution_count": 44,
      "outputs": [
        {
          "output_type": "stream",
          "name": "stdout",
          "text": [
            "System Version: 3.11.13 (main, Jun  4 2025, 08:57:29) [GCC 11.4.0]\n",
            "PyTorch version 2.6.0+cu124\n",
            "Torchvision version 0.21.0+cu124\n",
            "Numpy version 2.0.2\n",
            "Pandas version 2.2.2\n"
          ]
        }
      ]
    },
    {
      "cell_type": "code",
      "source": [
        "# Creating the Dataset class\n",
        "\n",
        "class EnglishCharacterDataset(Dataset):\n",
        "  def __init__(self, data_dir, transform = None):\n",
        "    self.data = ImageFolder(data_dir, transform=transform)\n",
        "\n",
        "  def __len__(self):\n",
        "    return len(self.data)\n",
        "\n",
        "  def __getitem__(self, index):\n",
        "    return self.data[index]\n",
        "\n",
        "  @property\n",
        "  def classes(self):\n",
        "    return self.data.classes"
      ],
      "metadata": {
        "id": "Qe4jKXEAu2JL"
      },
      "execution_count": 45,
      "outputs": []
    },
    {
      "cell_type": "code",
      "source": [
        "from random import randint\n",
        "\n",
        "dataset = EnglishCharacterDataset(data_dir=\"/kaggle/input/english-alphabets/english_alphabets\")\n",
        "\n",
        "# Test to see if dataset loads\n",
        "print(\"Length of dataset: \", len(dataset))\n",
        "image, label = dataset[randint(0, len(dataset) - 1)]\n",
        "image"
      ],
      "metadata": {
        "colab": {
          "base_uri": "https://localhost:8080/",
          "height": 68
        },
        "id": "FWvRjkpJzc87",
        "outputId": "deb59179-f587-4d5a-927b-1cc74e363010"
      },
      "execution_count": 46,
      "outputs": [
        {
          "output_type": "stream",
          "name": "stdout",
          "text": [
            "Length of dataset:  6831\n"
          ]
        },
        {
          "output_type": "execute_result",
          "data": {
            "text/plain": [
              "<PIL.Image.Image image mode=RGB size=34x34>"
            ],
            "image/png": "[encoded data removed]",
            "image/jpeg": "[encoded data removed]"
          },
          "metadata": {},
          "execution_count": 46
        }
      ]
    },
    {
      "cell_type": "code",
      "source": [
        "# Sample of using Transform to resize all images to be of same dimensions\n",
        "transform = transforms.Compose([\n",
        "    transforms.Resize((128, 128)),\n",
        "    transforms.ToTensor()\n",
        "])\n",
        "\n",
        "data_dir = '/kaggle/input/english-alphabets/english_alphabets'\n",
        "# Making a dataset with the custom transform\n",
        "dataset = EnglishCharacterDataset(data_dir = data_dir, transform = transform)\n",
        "\n",
        "# Pulling a sample image to test\n",
        "image, label = dataset[1000]\n",
        "image.shape # Gives the dimensions of the image (now converted to a tensor with uniform dimensions)"
      ],
      "metadata": {
        "colab": {
          "base_uri": "https://localhost:8080/"
        },
        "id": "eAuP0K1m-By0",
        "outputId": "d2739c7b-2fb4-4862-b6a5-4b7ac1d41a56"
      },
      "execution_count": 48,
      "outputs": [
        {
          "output_type": "execute_result",
          "data": {
            "text/plain": [
              "torch.Size([3, 128, 128])"
            ]
          },
          "metadata": {},
          "execution_count": 48
        }
      ]
    },
    {
      "cell_type": "code",
      "source": [
        "for image, label in dataset:\n",
        "    break"
      ],
      "metadata": {
        "id": "AT9euoFrAd7m"
      },
      "execution_count": 49,
      "outputs": []
    },
    {
      "cell_type": "code",
      "source": [
        "# Making a dataloader in order to create batches to train\n",
        "dataloader = DataLoader(dataset, batch_size = 32, shuffle=True)\n",
        "\n",
        "# Testing by iterating and breaking, we'll be using images as the testing in the model down below\n",
        "for images, labels in dataloader:\n",
        "  break"
      ],
      "metadata": {
        "id": "bhF5MtnHAsIU"
      },
      "execution_count": 50,
      "outputs": []
    },
    {
      "cell_type": "code",
      "source": [
        "# Creating the classifier (untrained base model) to train from timm, the model class is called a 'Classifier' dunno why\n",
        "class EnglishCharacterClassifier(nn.Module):\n",
        "  def __init__(self, numClasses=26): # numClasses here is 26 because of 26 letters in the english alphabet\n",
        "    super(EnglishCharacterClassifier, self).__init__()\n",
        "    self.base_model = timm.create_model('efficientnet_b0', pretrained=True)\n",
        "\n",
        "    self.features = nn.Sequential(*list(self.base_model.children())[:-1])\n",
        "\n",
        "    enet_out_size = 1280\n",
        "    # Make a classifier\n",
        "    self.classifier = nn.Sequential(\n",
        "        nn.Flatten(),\n",
        "        nn.Linear(enet_out_size, numClasses)\n",
        "    )\n",
        "\n",
        "  def forward(self, x):\n",
        "    x = self.features(x)\n",
        "    output = self.classifier(x)\n",
        "\n",
        "    return output\n"
      ],
      "metadata": {
        "id": "2E8b-CfltYtd"
      },
      "execution_count": 54,
      "outputs": []
    },
    {
      "cell_type": "code",
      "source": [
        "# Creating a new model from the classifier above\n",
        "model = EnglishCharacterClassifier(numClasses=26)\n",
        "# print(model)\n",
        "\n",
        "# Testing the model by passing one 'images' batch from the dataloader test from above\n",
        "model(images) # Should output a tensor if works\n",
        "output = model(images)\n",
        "print(output.shape)"
      ],
      "metadata": {
        "colab": {
          "base_uri": "https://localhost:8080/"
        },
        "id": "QfTWl8YtvORj",
        "outputId": "6bcada85-8a38-4279-dd20-d04a2c6ae461"
      },
      "execution_count": 55,
      "outputs": [
        {
          "output_type": "stream",
          "name": "stdout",
          "text": [
            "torch.Size([32, 26])\n"
          ]
        }
      ]
    },
    {
      "cell_type": "code",
      "source": [
        "for images, labels in dataloader:\n",
        "  break\n",
        "\n",
        "# TRAINING THE MODEL STARTS HERE\n",
        "# First we need to make 2 things: a loss function (called a criterion) and an optimizer\n",
        "model = EnglishCharacterClassifier(numClasses=26)\n",
        "model(images)\n",
        "output = model(images)\n",
        "print(output.shape)\n",
        "\n",
        "criterion = nn.CrossEntropyLoss();\n",
        "optimizer = optim.Adam(model.parameters(), lr = 0.001)\n",
        "\n",
        "criterion(output, labels)"
      ],
      "metadata": {
        "id": "nEkKMpOowep7",
        "colab": {
          "base_uri": "https://localhost:8080/"
        },
        "outputId": "c09c0ae2-27e0-4e5d-8ffa-0da070b4f6aa"
      },
      "execution_count": 56,
      "outputs": [
        {
          "output_type": "stream",
          "name": "stdout",
          "text": [
            "torch.Size([32, 26])\n"
          ]
        },
        {
          "output_type": "execute_result",
          "data": {
            "text/plain": [
              "tensor(3.2634, grad_fn=<NllLossBackward0>)"
            ]
          },
          "metadata": {},
          "execution_count": 56
        }
      ]
    },
    {
      "cell_type": "code",
      "source": [
        "transform = transforms.Compose([\n",
        "    transforms.Resize((128, 128)),\n",
        "    transforms.ToTensor(),\n",
        "])\n",
        "\n",
        "trainFolder = \"/kaggle/input/english-alphabets/english_alphabets\"\n",
        "validFolder = \"/kaggle/input/english-alphabets/english_alphabets\"\n",
        "\n",
        "trainDataset = EnglishCharacterDataset(data_dir = trainFolder, transform=transform)\n",
        "validDataset = EnglishCharacterDataset(data_dir = validFolder, transform=transform)\n",
        "\n",
        "trainDataLoader = DataLoader(trainDataset, batch_size=32, shuffle=True)\n",
        "validDataLoader = DataLoader(validDataset, batch_size=32, shuffle=False)\n",
        "\n",
        "# Simple training loop\n",
        "num_epochs = 5\n",
        "train_losses, val_losses = [], []\n",
        "\n",
        "device = torch.device(\"cuda:0\" if torch.cuda.is_available() else \"cpu\")\n",
        "if torch.cuda.is_available():\n",
        "  print(\"Using CUDA\")\n",
        "\n",
        "model = EnglishCharacterClassifier(numClasses=26)\n",
        "model.to(device)\n",
        "\n",
        "criterion = nn.CrossEntropyLoss()\n",
        "optimizer = optim.Adam(model.parameters(), lr=0.001)\n",
        "\n",
        "for epoch in range(num_epochs):\n",
        "  model.train() #!!!!!!!!!!!!!!!!!!!\n",
        "  runningLoss = 0.0\n",
        "  for images, labels in tqdm(trainDataLoader, desc='Training loop'):\n",
        "    # Move inputs and labels to the device\n",
        "    images, labels = images.to(device), labels.to(device)\n",
        "\n",
        "    optimizer.zero_grad()\n",
        "    outputs = model(images)\n",
        "    loss = criterion(outputs, labels)\n",
        "    loss.backward()\n",
        "    optimizer.step()\n",
        "    runningLoss += loss.item() * labels.size(0)\n",
        "  train_loss = runningLoss / len(trainDataLoader.dataset)\n",
        "  train_losses.append(train_loss)\n",
        "\n",
        "  # Validation phase\n",
        "  model.eval()\n",
        "  running_loss = 0.0\n",
        "\n",
        "  with torch.no_grad():\n",
        "    for images, labels in tqdm(validDataLoader, desc='Validation loop'):\n",
        "      # Move inputs and labels to the device\n",
        "      images, labels = images.to(device), labels.to(device)\n",
        "\n",
        "      outputs = model(images)\n",
        "      loss = criterion(outputs, labels)\n",
        "      running_loss += loss.item() * labels.size(0)\n",
        "\n",
        "    val_loss = running_loss / len(validDataLoader.dataset)\n",
        "    val_losses.append(val_loss)\n",
        "    print(f\"Epoch {epoch+1}/{num_epochs} - Train loss: {train_loss}, Validation loss: {val_loss}\")"
      ],
      "metadata": {
        "id": "PRyMYG1759lL"
      },
      "execution_count": null,
      "outputs": []
    },
    {
      "cell_type": "code",
      "source": [
        "plt.plot(train_losses, label='Training loss')\n",
        "plt.plot(val_losses, label='Validation loss')\n",
        "plt.legend()\n",
        "plt.title(\"Loss over epochs\")\n",
        "plt.show()"
      ],
      "metadata": {
        "colab": {
          "base_uri": "https://localhost:8080/",
          "height": 452
        },
        "id": "3ffEqe6p7isF",
        "outputId": "05fae43b-a940-4e75-b59c-ca07c6501420"
      },
      "execution_count": 61,
      "outputs": [
        {
          "output_type": "display_data",
          "data": {
            "text/plain": [
              "<Figure size 640x480 with 1 Axes>"
            ],
            "image/png": "[encoded data removed]"
          },
          "metadata": {}
        }
      ]
    },
    {
      "cell_type": "code",
      "source": [
        "# Testing the trained model\n",
        "\n",
        "import torch\n",
        "import torchvision.transforms as transforms\n",
        "from PIL import Image\n",
        "import matplotlib.pyplot as plt\n",
        "import numpy as np\n",
        "\n",
        "def preprocess_image(image_path, transform):\n",
        "    image = Image.open(image_path).convert(\"RGB\")\n",
        "    return image, transform(image).unsqueeze(0)\n",
        "\n",
        "# Predict using the model\n",
        "def predict(model, image_tensor, device):\n",
        "    model.eval()\n",
        "    with torch.no_grad():\n",
        "        image_tensor = image_tensor.to(device)\n",
        "        outputs = model(image_tensor)\n",
        "        probabilities = torch.nn.functional.softmax(outputs, dim=1)\n",
        "    return probabilities.cpu().numpy().flatten()\n",
        "\n",
        "def visualize_predictions(original_image, probabilities, class_names):\n",
        "    fig, axarr = plt.subplots(1, 2, figsize=(14, 7))\n",
        "\n",
        "    # Display image\n",
        "    axarr[0].imshow(original_image)\n",
        "    axarr[0].axis(\"off\")\n",
        "\n",
        "    # Display predictions\n",
        "    axarr[1].barh(class_names, probabilities)\n",
        "    axarr[1].set_xlabel(\"Probability\")\n",
        "    axarr[1].set_title(\"Class Predictions\")\n",
        "    axarr[1].set_xlim(0, 1)\n",
        "\n",
        "    plt.tight_layout()\n",
        "    plt.show()\n",
        "\n",
        "test_image = \"/kaggle/input/english-alphabets/A/14.jpg\"\n",
        "transform = transforms.Compose([\n",
        "    transforms.Resize((128, 128)),\n",
        "    transforms.ToTensor()\n",
        "])\n",
        "\n",
        "original_image, image_tensor = preprocess_image(test_image, transform)\n",
        "probabilities = predict(model, image_tensor, device)\n",
        "\n",
        "class_names = dataset.classes\n",
        "visualize_predictions(original_image, probabilities, class_names)"
      ],
      "metadata": {
        "colab": {
          "base_uri": "https://localhost:8080/",
          "height": 707
        },
        "id": "YfXGDrizEKrd",
        "outputId": "14fa0492-6e6e-4fb1-f8c1-b761e024f446"
      },
      "execution_count": 65,
      "outputs": [
        {
          "output_type": "display_data",
          "data": {
            "text/plain": [
              "<Figure size 1400x700 with 2 Axes>"
            ],
            "image/png": "[encoded data removed]"
          },
          "metadata": {}
        }
      ]
    }
  ]
}